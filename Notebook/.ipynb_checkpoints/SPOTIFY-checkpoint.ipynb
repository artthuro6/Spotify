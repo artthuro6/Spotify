{
 "cells": [
  {
   "cell_type": "code",
   "execution_count": 7,
   "metadata": {},
   "outputs": [
    {
     "name": "stdout",
     "output_type": "stream",
     "text": [
      "Collecting findspark\n",
      "  Using cached findspark-2.0.1-py2.py3-none-any.whl (4.4 kB)\n",
      "Installing collected packages: findspark\n",
      "Successfully installed findspark-2.0.1\n"
     ]
    }
   ],
   "source": [
    "!pip install findspark"
   ]
  },
  {
   "cell_type": "code",
   "execution_count": 8,
   "metadata": {},
   "outputs": [],
   "source": [
    "import findspark\n",
    "findspark.init()\n",
    "\n",
    "import pyspark\n",
    "from pyspark.sql import SparkSession\n",
    "from pyspark.sql.functions import *"
   ]
  },
  {
   "cell_type": "code",
   "execution_count": 9,
   "metadata": {},
   "outputs": [
    {
     "name": "stderr",
     "output_type": "stream",
     "text": [
      "Setting default log level to \"WARN\".\n",
      "To adjust logging level use sc.setLogLevel(newLevel). For SparkR, use setLogLevel(newLevel).\n"
     ]
    },
    {
     "name": "stdout",
     "output_type": "stream",
     "text": [
      "23/07/01 20:55:58 WARN NativeCodeLoader: Unable to load native-hadoop library for your platform... using builtin-java classes where applicable\n"
     ]
    }
   ],
   "source": [
    "spark = SparkSession.builder.getOrCreate()"
   ]
  },
  {
   "cell_type": "code",
   "execution_count": 10,
   "metadata": {},
   "outputs": [],
   "source": [
    "songsunpopular = './../data/raw/spoptify/unpopular_songs.csv'\n",
    "genre = './../data/raw/spoptify/z_genre_of_artists.csv'"
   ]
  },
  {
   "cell_type": "code",
   "execution_count": 11,
   "metadata": {},
   "outputs": [],
   "source": [
    "d_songsunpopular = spark.read.option(\"header\", True).csv(songsunpopular)\n",
    "d_genre = spark.read.option(\"header\", True).csv(genre)"
   ]
  },
  {
   "cell_type": "code",
   "execution_count": 12,
   "metadata": {},
   "outputs": [
    {
     "name": "stdout",
     "output_type": "stream",
     "text": [
      "+------------+--------------------+--------------------+\n",
      "| artist_name|           artist_id|               genre|\n",
      "+------------+--------------------+--------------------+\n",
      "|James Reeder|5YCUdcLdAbaYZcdZr...|                  []|\n",
      "|        Cold|0Gw3a3BkWLwsMLFbO...|['alternative met...|\n",
      "|          TG|7qwOsGanRCnWgty6l...|                  []|\n",
      "|     Klaxons|2qlAMLpUyBjZgnzuF...|['alternative dan...|\n",
      "|          TG|7qwOsGanRCnWgty6l...|                  []|\n",
      "+------------+--------------------+--------------------+\n",
      "only showing top 5 rows\n",
      "\n"
     ]
    }
   ],
   "source": [
    "d_genre.show(5)"
   ]
  },
  {
   "cell_type": "code",
   "execution_count": 14,
   "metadata": {},
   "outputs": [
    {
     "name": "stdout",
     "output_type": "stream",
     "text": [
      "+------------+--------+-------+\n",
      "|track_artist|explicit|  tempo|\n",
      "+------------+--------+-------+\n",
      "|James Reeder|   False|120.144|\n",
      "|James Reeder|   False|130.026|\n",
      "|James Reeder|   False| 78.345|\n",
      "|James Reeder|   False|  85.08|\n",
      "|James Reeder|   False| 139.95|\n",
      "+------------+--------+-------+\n",
      "only showing top 5 rows\n",
      "\n"
     ]
    }
   ],
   "source": [
    "d_songsunpopular.select('track_artist', 'explicit', 'tempo').show(5)"
   ]
  },
  {
   "cell_type": "code",
   "execution_count": 24,
   "metadata": {},
   "outputs": [
    {
     "name": "stdout",
     "output_type": "stream",
     "text": [
      "Generos ['artist_name', 'artist_id', 'genre']\n",
      "Canciones ['danceability', 'energy', 'key', 'loudness', 'mode', 'speechiness', 'acousticness', 'instrumentalness', 'liveness', 'valence', 'tempo', 'duration_ms', 'explicit', 'popularity', 'track_name', 'track_artist', 'track_id']\n"
     ]
    }
   ],
   "source": [
    "print('Generos', d_genre.columns)\n",
    "print( 'Canciones', d_songsunpopular.columns )"
   ]
  },
  {
   "cell_type": "code",
   "execution_count": 69,
   "metadata": {},
   "outputs": [
    {
     "name": "stdout",
     "output_type": "stream",
     "text": [
      "+--------------------+----------+-------+--------------------+-----------+---+\n",
      "|          track_name|popularitY|  tempo|               genre|duration_ms|key|\n",
      "+--------------------+----------+-------+--------------------+-----------+---+\n",
      "|Will You Still Lo...|         2|142.802|                  []|     126642|  2|\n",
      "|        Twenty-Three|         2|112.979|                  []|     170112|  5|\n",
      "|      New Kinda Song|         2|129.571|                  []|     160224|  0|\n",
      "| You're the Only One|         2|139.909|                  []|     137195|  9|\n",
      "|     One Little Star|         2|109.957|                  []|     104856|  6|\n",
      "|                 '81|         2|125.013|                  []|     169728|  8|\n",
      "|      Caribbean Girl|         2|105.003|                  []|     130344|  6|\n",
      "|               Today|         2|145.064|                  []|     211920|  1|\n",
      "|Kiss My Lonelines...|         2|120.106|                  []|     201240|  4|\n",
      "|             Show Me|         3| 86.687|                  []|     183048|  7|\n",
      "|     It's About Time|         3| 92.998|                  []|     171768|  7|\n",
      "|     Liberty Valance|         3| 84.792|                  []|     201768|  8|\n",
      "|             Satania|         2|119.983|                  []|      74064|  0|\n",
      "|The Devil in a Lo...|         2|140.172|                  []|     164208|  2|\n",
      "|    Kentucky Banshee|         2| 74.396|                  []|     206544|  2|\n",
      "|       Night on Fire|         2| 89.826|                  []|     120936|  5|\n",
      "|     Rusty Barracuda|         2|169.878|                  []|     182184|  0|\n",
      "|               Demon|         2|123.927|                  []|     211043|  1|\n",
      "|            Trapdoor|         2| 80.031|                  []|     195288| 11|\n",
      "|           Hurricane|         2|125.985|                  []|     194560|  9|\n",
      "|     Hellfire Rising|         2| 139.95|                  []|     239400|  8|\n",
      "|         Afterburner|         2|  85.08|                  []|     236832|  7|\n",
      "|               Fangs|         2| 78.345|                  []|     167262|  4|\n",
      "|           Wild Life|         2|130.026|                  []|     158093|  1|\n",
      "|          No Regrets|         2|120.144|                  []|     225696|  4|\n",
      "|Stupid Girl - Lif...|         5| 138.73|['alternative met...|     291147|  5|\n",
      "|         Stupid Girl|        13|138.777|['alternative met...|     188960|  0|\n",
      "|        It Was Crazy|        15|109.853|                  []|     145398|  1|\n",
      "|             Answers|        14|179.991|                  []|     131291| 10|\n",
      "|        Inside Of Me|        14| 127.98|                  []|     182000| 10|\n",
      "|       How You Do It|        14| 140.03|                  []|     183972|  1|\n",
      "|             Essence|        14| 95.986|                  []|     166520| 10|\n",
      "|Gravity's Rainbow...|        14|131.984|['alternative dan...|     382933| 11|\n",
      "|        It Was Crazy|        15|109.853|                  []|     145398|  1|\n",
      "|             Answers|        14|179.991|                  []|     131291| 10|\n",
      "|        Inside Of Me|        14| 127.98|                  []|     182000| 10|\n",
      "|       How You Do It|        14| 140.03|                  []|     183972|  1|\n",
      "|             Essence|        14| 95.986|                  []|     166520| 10|\n",
      "|       MegaMix Intro|         1|130.023|                  []|     228413|  1|\n",
      "|                 Hoy|        14|112.517|['puerto rican ro...|     271381| 10|\n",
      "+--------------------+----------+-------+--------------------+-----------+---+\n",
      "only showing top 40 rows\n",
      "\n"
     ]
    }
   ],
   "source": [
    "d_songsunpopular.createOrReplaceTempView(\"d_songsunpopular\")\n",
    "d_genre.createOrReplaceTempView(\"d_genre\")\n",
    "r_sp_genre_time = spark.sql(\"\"\" SELECT  track_name, popularitY, tempo, genre, duration_ms, key\n",
    "                    FROM d_songsunpopular \n",
    "                    RIGHT JOIN d_genre\n",
    "                    ON d_genre.artist_name = d_songsunpopular.track_artist\"\"\")\n",
    "r_sp_genre_time.show(40)"
   ]
  },
  {
   "cell_type": "code",
   "execution_count": 77,
   "metadata": {},
   "outputs": [
    {
     "ename": "AnalysisException",
     "evalue": "\"tempo\" is not a numeric column. Aggregation function can only be applied on a numeric column.",
     "output_type": "error",
     "traceback": [
      "\u001b[0;31m---------------------------------------------------------------------------\u001b[0m",
      "\u001b[0;31mAnalysisException\u001b[0m                         Traceback (most recent call last)",
      "Cell \u001b[0;32mIn [77], line 1\u001b[0m\n\u001b[0;32m----> 1\u001b[0m \u001b[43mr_sp_genre_time\u001b[49m\u001b[38;5;241;43m.\u001b[39;49m\u001b[43mgroupBy\u001b[49m\u001b[43m(\u001b[49m\u001b[38;5;124;43m'\u001b[39;49m\u001b[38;5;124;43mtempo\u001b[39;49m\u001b[38;5;124;43m'\u001b[39;49m\u001b[43m)\u001b[49m\u001b[38;5;241;43m.\u001b[39;49m\u001b[43mmean\u001b[49m\u001b[43m(\u001b[49m\u001b[38;5;124;43m'\u001b[39;49m\u001b[38;5;124;43mtempo\u001b[39;49m\u001b[38;5;124;43m'\u001b[39;49m\u001b[43m)\u001b[49m\u001b[38;5;241m.\u001b[39mshow(\u001b[38;5;241m40\u001b[39m)\n",
      "File \u001b[0;32m~/spark/python/pyspark/sql/group.py:50\u001b[0m, in \u001b[0;36mdf_varargs_api.<locals>._api\u001b[0;34m(self, *cols)\u001b[0m\n\u001b[1;32m     48\u001b[0m \u001b[38;5;28;01mdef\u001b[39;00m \u001b[38;5;21m_api\u001b[39m(\u001b[38;5;28mself\u001b[39m: \u001b[38;5;124m\"\u001b[39m\u001b[38;5;124mGroupedData\u001b[39m\u001b[38;5;124m\"\u001b[39m, \u001b[38;5;241m*\u001b[39mcols: \u001b[38;5;28mstr\u001b[39m) \u001b[38;5;241m-\u001b[39m\u001b[38;5;241m>\u001b[39m DataFrame:\n\u001b[1;32m     49\u001b[0m     name \u001b[38;5;241m=\u001b[39m f\u001b[38;5;241m.\u001b[39m\u001b[38;5;18m__name__\u001b[39m\n\u001b[0;32m---> 50\u001b[0m     jdf \u001b[38;5;241m=\u001b[39m \u001b[38;5;28;43mgetattr\u001b[39;49m\u001b[43m(\u001b[49m\u001b[38;5;28;43mself\u001b[39;49m\u001b[38;5;241;43m.\u001b[39;49m\u001b[43m_jgd\u001b[49m\u001b[43m,\u001b[49m\u001b[43m \u001b[49m\u001b[43mname\u001b[49m\u001b[43m)\u001b[49m\u001b[43m(\u001b[49m\u001b[43m_to_seq\u001b[49m\u001b[43m(\u001b[49m\u001b[38;5;28;43mself\u001b[39;49m\u001b[38;5;241;43m.\u001b[39;49m\u001b[43msession\u001b[49m\u001b[38;5;241;43m.\u001b[39;49m\u001b[43m_sc\u001b[49m\u001b[43m,\u001b[49m\u001b[43m \u001b[49m\u001b[43mcols\u001b[49m\u001b[43m)\u001b[49m\u001b[43m)\u001b[49m\n\u001b[1;32m     51\u001b[0m     \u001b[38;5;28;01mreturn\u001b[39;00m DataFrame(jdf, \u001b[38;5;28mself\u001b[39m\u001b[38;5;241m.\u001b[39msession)\n",
      "File \u001b[0;32m~/spark/python/lib/py4j-0.10.9.5-src.zip/py4j/java_gateway.py:1321\u001b[0m, in \u001b[0;36mJavaMember.__call__\u001b[0;34m(self, *args)\u001b[0m\n\u001b[1;32m   1315\u001b[0m command \u001b[38;5;241m=\u001b[39m proto\u001b[38;5;241m.\u001b[39mCALL_COMMAND_NAME \u001b[38;5;241m+\u001b[39m\\\n\u001b[1;32m   1316\u001b[0m     \u001b[38;5;28mself\u001b[39m\u001b[38;5;241m.\u001b[39mcommand_header \u001b[38;5;241m+\u001b[39m\\\n\u001b[1;32m   1317\u001b[0m     args_command \u001b[38;5;241m+\u001b[39m\\\n\u001b[1;32m   1318\u001b[0m     proto\u001b[38;5;241m.\u001b[39mEND_COMMAND_PART\n\u001b[1;32m   1320\u001b[0m answer \u001b[38;5;241m=\u001b[39m \u001b[38;5;28mself\u001b[39m\u001b[38;5;241m.\u001b[39mgateway_client\u001b[38;5;241m.\u001b[39msend_command(command)\n\u001b[0;32m-> 1321\u001b[0m return_value \u001b[38;5;241m=\u001b[39m \u001b[43mget_return_value\u001b[49m\u001b[43m(\u001b[49m\n\u001b[1;32m   1322\u001b[0m \u001b[43m    \u001b[49m\u001b[43manswer\u001b[49m\u001b[43m,\u001b[49m\u001b[43m \u001b[49m\u001b[38;5;28;43mself\u001b[39;49m\u001b[38;5;241;43m.\u001b[39;49m\u001b[43mgateway_client\u001b[49m\u001b[43m,\u001b[49m\u001b[43m \u001b[49m\u001b[38;5;28;43mself\u001b[39;49m\u001b[38;5;241;43m.\u001b[39;49m\u001b[43mtarget_id\u001b[49m\u001b[43m,\u001b[49m\u001b[43m \u001b[49m\u001b[38;5;28;43mself\u001b[39;49m\u001b[38;5;241;43m.\u001b[39;49m\u001b[43mname\u001b[49m\u001b[43m)\u001b[49m\n\u001b[1;32m   1324\u001b[0m \u001b[38;5;28;01mfor\u001b[39;00m temp_arg \u001b[38;5;129;01min\u001b[39;00m temp_args:\n\u001b[1;32m   1325\u001b[0m     temp_arg\u001b[38;5;241m.\u001b[39m_detach()\n",
      "File \u001b[0;32m~/spark/python/pyspark/sql/utils.py:196\u001b[0m, in \u001b[0;36mcapture_sql_exception.<locals>.deco\u001b[0;34m(*a, **kw)\u001b[0m\n\u001b[1;32m    192\u001b[0m converted \u001b[38;5;241m=\u001b[39m convert_exception(e\u001b[38;5;241m.\u001b[39mjava_exception)\n\u001b[1;32m    193\u001b[0m \u001b[38;5;28;01mif\u001b[39;00m \u001b[38;5;129;01mnot\u001b[39;00m \u001b[38;5;28misinstance\u001b[39m(converted, UnknownException):\n\u001b[1;32m    194\u001b[0m     \u001b[38;5;66;03m# Hide where the exception came from that shows a non-Pythonic\u001b[39;00m\n\u001b[1;32m    195\u001b[0m     \u001b[38;5;66;03m# JVM exception message.\u001b[39;00m\n\u001b[0;32m--> 196\u001b[0m     \u001b[38;5;28;01mraise\u001b[39;00m converted \u001b[38;5;28;01mfrom\u001b[39;00m \u001b[38;5;28mNone\u001b[39m\n\u001b[1;32m    197\u001b[0m \u001b[38;5;28;01melse\u001b[39;00m:\n\u001b[1;32m    198\u001b[0m     \u001b[38;5;28;01mraise\u001b[39;00m\n",
      "\u001b[0;31mAnalysisException\u001b[0m: \"tempo\" is not a numeric column. Aggregation function can only be applied on a numeric column."
     ]
    }
   ],
   "source": [
    "r_sp_genre_time.groupBy('tempo').mean('tempo').show(40)"
   ]
  },
  {
   "cell_type": "code",
   "execution_count": null,
   "metadata": {},
   "outputs": [],
   "source": []
  },
  {
   "cell_type": "code",
   "execution_count": null,
   "metadata": {},
   "outputs": [],
   "source": []
  }
 ],
 "metadata": {
  "kernelspec": {
   "display_name": "Python 3 (ipykernel)",
   "language": "python",
   "name": "python3"
  },
  "language_info": {
   "codemirror_mode": {
    "name": "ipython",
    "version": 3
   },
   "file_extension": ".py",
   "mimetype": "text/x-python",
   "name": "python",
   "nbconvert_exporter": "python",
   "pygments_lexer": "ipython3",
   "version": "3.8.10"
  }
 },
 "nbformat": 4,
 "nbformat_minor": 2
}
